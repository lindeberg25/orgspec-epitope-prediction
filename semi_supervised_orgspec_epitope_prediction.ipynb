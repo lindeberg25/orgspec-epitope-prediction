{
  "nbformat": 4,
  "nbformat_minor": 0,
  "metadata": {
    "colab": {
      "name": "semi-supervised-orgspec-epitope-prediction.ipynb",
      "provenance": [],
      "collapsed_sections": []
    },
    "kernelspec": {
      "display_name": "Python 3",
      "name": "python3"
    },
    "language_info": {
      "name": "python"
    }
  },
  "cells": [
    {
      "cell_type": "markdown",
      "metadata": {
        "id": "GhLgBSDaIyGF"
      },
      "source": [
        "#**semi-supervised-orgspec-epitope-prediction\"**\n",
        "\n",
        "---\n",
        "\n",
        "\n"
      ]
    },
    {
      "cell_type": "code",
      "metadata": {
        "colab": {
          "base_uri": "https://localhost:8080/"
        },
        "id": "NdSnRLS3lMkF",
        "outputId": "48737226-ef66-43f8-99ce-f746278a2e16"
      },
      "source": [
        "from google.colab import drive\n",
        "drive.mount('/content/drive/')\n",
        "\n",
        "import os\n",
        "os.chdir('/content/drive/My Drive/Colab Notebooks/orgspec-epitope-prediction')  "
      ],
      "execution_count": null,
      "outputs": [
        {
          "output_type": "stream",
          "name": "stdout",
          "text": [
            "Drive already mounted at /content/drive/; to attempt to forcibly remount, call drive.mount(\"/content/drive/\", force_remount=True).\n"
          ]
        }
      ]
    },
    {
      "cell_type": "code",
      "metadata": {
        "colab": {
          "base_uri": "https://localhost:8080/"
        },
        "id": "rzf53ZGDl_xt",
        "outputId": "bfa959d1-ee15-4707-eb7c-332d0fb3d5f4"
      },
      "source": [
        "import os\n",
        "for dirname, _, filenames in os.walk('./input'):\n",
        "    for filename in filenames:\n",
        "        print(os.path.join(dirname, filename))"
      ],
      "execution_count": null,
      "outputs": [
        {
          "output_type": "stream",
          "name": "stdout",
          "text": [
            "./input/training-Ovolvulus.csv\n",
            "./input/02_holdout.csv\n",
            "./input/new_train_ovolvulus.csv\n",
            "./input/ov_holdout.csv\n",
            "./input/ov_training.csv\n"
          ]
        }
      ]
    },
    {
      "cell_type": "code",
      "source": [
        "feature_columns = {'feat_VHSE5', 'feat_BLOSUM1', 'feat_F6', 'feat_MSWHIM2', 'feat_PP2', 'feat_KF3', 'feat_VHSE1', 'feat_Z1', 'feat_Z4', 'feat_F1', 'feat_BLOSUM7', 'feat_ST5', 'feat_O_atoms', 'feat_ProtFP4', 'feat_PP3', 'feat_PP1', 'feat_ST7'}\n",
        "target = 'Class'"
      ],
      "metadata": {
        "id": "YgyZaWx4TmFZ"
      },
      "execution_count": null,
      "outputs": []
    },
    {
      "cell_type": "code",
      "metadata": {
        "id": "SDEQDMI_mZmb"
      },
      "source": [
        "import pandas as pd \n",
        "import numpy as np\n",
        "from sklearn.utils import shuffle\n",
        "\n",
        "# Importing the dataset\n",
        "train_ovolvulus = pd.read_csv('./input/ov_training.csv')\n",
        "\n",
        "train_ovolvulus.replace([np.inf, -np.inf], np.nan, inplace=True)\n",
        "train_ovolvulus.dropna(inplace=True)\n",
        "\n",
        "train_ovolvulus = shuffle(train_ovolvulus, random_state=1)\n"
      ],
      "execution_count": null,
      "outputs": []
    },
    {
      "cell_type": "code",
      "source": [
        "#train_ovolvulus = train_ovolvulus.iloc[0:int(len(train_ovolvulus))]\n",
        "\n",
        "noisy_train_ovolvulus = train_ovolvulus.loc[train_ovolvulus['Info_evidence_type']=='Epitope-containing region']\n",
        "\n",
        "exact_train_ovolvulus = train_ovolvulus.loc[train_ovolvulus['Info_evidence_type']=='Exact Epitope']\n",
        "\n",
        "df_X_1_noisy = noisy_train_ovolvulus.iloc[0:25]\n",
        "\n",
        "df_X_1_exact = exact_train_ovolvulus.iloc[0:25]\n",
        "\n",
        "\n",
        "df_X_1 = pd.concat([df_X_1_noisy, df_X_1_exact])\n",
        "\n",
        "\n",
        "df_X_1 = shuffle(df_X_1, random_state=1)\n",
        "\n",
        "df_X_1['Class'] = df_X_1['Class'].apply(lambda x: 0 if x == -1 else x)\n",
        "\n",
        "\n",
        "\n",
        "df_X_2_part1 = noisy_train_ovolvulus.iloc[101:4101]\n",
        "df_X_2_part2 = exact_train_ovolvulus[26:4826]\n",
        "\n",
        "\n",
        "\n",
        "#df_X_2_part1 = train_ovolvulus.iloc[101:901]\n",
        "#df_X_2_part2 = exact_train_ovolvulus[0:800]\n",
        "\n",
        "df_X_2 = pd.concat([df_X_2_part1, df_X_2_part2])\n",
        "df_X_2['Class'] = df_X_2['Class'].apply(lambda x: 0 if x == -1 else x)\n",
        "\n",
        "df_X_2 = shuffle(df_X_2, random_state=1)\n",
        "\n",
        "\n",
        "\n",
        "X_1 = df_X_1[feature_columns]\n",
        "y_1 = df_X_1[target]\n",
        "\n",
        "X_2 = df_X_2[feature_columns]\n",
        "y_2 = df_X_2[target]\n",
        "\n",
        "\n",
        "y_1_2 = np.concatenate((y_1, y_2.apply(lambda x: -1)))\n",
        "X_1_2 = np.concatenate((X_1, X_2))"
      ],
      "metadata": {
        "id": "4P6x8eN8ZPlI"
      },
      "execution_count": null,
      "outputs": []
    },
    {
      "cell_type": "code",
      "metadata": {
        "id": "Tv3rQVgK56dk"
      },
      "source": [
        "# Importing the dataset\n",
        "holdout_ovolvulus = pd.read_csv('./input/ov_holdout.csv')\n",
        "\n",
        "holdout_ovolvulus.replace([np.inf, -np.inf], np.nan, inplace=True)\n",
        "holdout_ovolvulus.dropna(inplace=True)\n",
        "\n",
        "holdout_ovolvulus = shuffle(holdout_ovolvulus, random_state=1)\n",
        "\n",
        "holdout_ovolvulus = holdout_ovolvulus.iloc[0:int(len(holdout_ovolvulus)/2)]\n",
        "\n",
        "df_X_3 = holdout_ovolvulus\n",
        "\n",
        "df_X_3['Class'] = df_X_3['Class'].apply(lambda x: 0 if x == -1 else x)\n",
        "\n",
        "X_3 = df_X_3[feature_columns]\n",
        "y_3 = df_X_3[target]\n"
      ],
      "execution_count": null,
      "outputs": []
    },
    {
      "cell_type": "code",
      "metadata": {
        "colab": {
          "base_uri": "https://localhost:8080/"
        },
        "id": "KlPm4cq_Rpio",
        "outputId": "3ee77bd1-21bb-4ca5-df4e-f586b1d38378"
      },
      "source": [
        "df_X_1.Class.value_counts()"
      ],
      "execution_count": null,
      "outputs": [
        {
          "output_type": "execute_result",
          "data": {
            "text/plain": [
              "1    25\n",
              "0    25\n",
              "Name: Class, dtype: int64"
            ]
          },
          "metadata": {},
          "execution_count": 158
        }
      ]
    },
    {
      "cell_type": "code",
      "source": [
        "#Basic imports\n",
        "import os\n",
        "import pandas as pd\n",
        "import numpy as np\n",
        "import matplotlib.pyplot as plt\n",
        "import seaborn as sns\n",
        "from sklearn.utils import shuffle"
      ],
      "metadata": {
        "id": "w7vue4NCgQKB"
      },
      "execution_count": null,
      "outputs": []
    },
    {
      "cell_type": "code",
      "source": [
        "#!pip install pomegranate\n",
        "#import pomegranate as pg\n",
        "from sklearn.linear_model import LogisticRegression\n",
        "from sklearn.semi_supervised import LabelPropagation, LabelSpreading\n",
        "from sklearn.metrics import roc_auc_score\n",
        "from sklearn.datasets import load_breast_cancer"
      ],
      "metadata": {
        "id": "aCzx2_U_XlY_"
      },
      "execution_count": null,
      "outputs": []
    },
    {
      "cell_type": "code",
      "source": [
        "import warnings\n",
        "warnings.simplefilter('ignore') #we don't wanna see that\n",
        "np.random.seed(1) #i'm locking seed at the begining since we will use some heavy RNG stuff, be aware"
      ],
      "metadata": {
        "id": "6joegS-9aDF1"
      },
      "execution_count": null,
      "outputs": []
    },
    {
      "cell_type": "code",
      "source": [
        "index = ['Algorithm', 'ROC AUC']\n",
        "results = pd.DataFrame(columns=index)"
      ],
      "metadata": {
        "id": "nbPaL3ITr_He"
      },
      "execution_count": null,
      "outputs": []
    },
    {
      "cell_type": "code",
      "source": [
        "from sklearn.metrics import accuracy_score, classification_report\n",
        "import numpy as np\n",
        "from sklearn.metrics import fbeta_score\n",
        "from sklearn.metrics import roc_auc_score\n",
        "from sklearn import metrics\n",
        "import warnings\n",
        "from sklearn.ensemble import RandomForestClassifier\n",
        "warnings.filterwarnings(\"ignore\")\n",
        "\n",
        "model = RandomForestClassifier();\n",
        "\n",
        "model.fit(X_1, y_1)\n",
        "\n",
        "preds = model.predict(X_3)\n",
        "\n",
        "print(\"ROC_AUC:\", roc_auc_score(y_3, preds))\n",
        "\n",
        "print(classification_report(y_3, preds))"
      ],
      "metadata": {
        "colab": {
          "base_uri": "https://localhost:8080/"
        },
        "id": "Eaf8hUGesVp8",
        "outputId": "74db3d5b-a556-4cd4-affb-d202f0738905"
      },
      "execution_count": null,
      "outputs": [
        {
          "output_type": "stream",
          "name": "stdout",
          "text": [
            "ROC_AUC: 0.6375788405755684\n",
            "              precision    recall  f1-score   support\n",
            "\n",
            "           0       0.57      0.66      0.62      1175\n",
            "           1       0.70      0.61      0.65      1489\n",
            "\n",
            "    accuracy                           0.63      2664\n",
            "   macro avg       0.64      0.64      0.63      2664\n",
            "weighted avg       0.64      0.63      0.64      2664\n",
            "\n"
          ]
        }
      ]
    },
    {
      "cell_type": "markdown",
      "source": [
        "**Label Propagation**"
      ],
      "metadata": {
        "id": "Ep6vaxS2sbX0"
      }
    },
    {
      "cell_type": "code",
      "source": [
        "def label_prop_test(kernel, params_list, X_train, X_test, y_train, y_test):\n",
        "    plt.figure(figsize=(20,10))\n",
        "    n, g = 0, 0\n",
        "    roc_scores = []\n",
        "    if kernel == 'rbf':\n",
        "        for g in params_list:\n",
        "            lp = LabelPropagation(kernel=kernel, n_neighbors=n, gamma=g, max_iter=100000, tol=0.0001)\n",
        "            lp.fit(X_train, y_train)\n",
        "            roc_scores.append(roc_auc_score(y_test, lp.predict_proba(X_test)[:,1]))\n",
        "    if kernel == 'knn':\n",
        "        for n in params_list:\n",
        "            lp = LabelPropagation(kernel=kernel, n_neighbors=n, gamma=g, max_iter=100000, tol=0.0001)\n",
        "            lp.fit(X_train, y_train)\n",
        "            roc_scores.append(roc_auc_score(y_test, lp.predict_proba(X_test)[:,1]))\n",
        "    plt.figure(figsize=(16,8));\n",
        "    plt.plot(params_list, roc_scores)\n",
        "    plt.title('Label Propagation ROC AUC with ' + kernel + ' kernel')\n",
        "    plt.show()\n",
        "    print('Best metrics value is at {}'.format(params_list[np.argmax(roc_scores)]))\n"
      ],
      "metadata": {
        "id": "UtyisfkusfPf"
      },
      "execution_count": null,
      "outputs": []
    },
    {
      "cell_type": "code",
      "source": [
        "ns = np.arange(50,60)\n",
        "label_prop_test('knn', ns, X_1_2, X_3, y_1_2, y_3)\n"
      ],
      "metadata": {
        "id": "boD1X8SVuB6c",
        "colab": {
          "base_uri": "https://localhost:8080/",
          "height": 531
        },
        "outputId": "2c8c0a66-63a9-4089-f335-6f8ec9a3d81f"
      },
      "execution_count": null,
      "outputs": [
        {
          "output_type": "display_data",
          "data": {
            "text/plain": [
              "<Figure size 1440x720 with 0 Axes>"
            ]
          },
          "metadata": {}
        },
        {
          "output_type": "display_data",
          "data": {
            "image/png": "[encoded data removed]",
            "text/plain": [
              "<Figure size 1152x576 with 1 Axes>"
            ]
          },
          "metadata": {
            "needs_background": "light"
          }
        },
        {
          "output_type": "stream",
          "name": "stdout",
          "text": [
            "Best metrics value is at 51\n"
          ]
        }
      ]
    },
    {
      "cell_type": "code",
      "source": [
        "# define model\n",
        "#model = LabelPropagation(kernel='rbf', gamma=2e-5, max_iter=100000, tol=0.0001)\n",
        "model = LabelPropagation(kernel='knn',n_neighbors=59, gamma=30, max_iter=2000)\n",
        "# fit model on training dataset\n",
        "model.fit(X_1_2, y_1_2)\n",
        "# make predictions\n",
        "predicted_labels = model.predict(X_3)\n",
        "true_labels = y_3\n",
        "\n",
        "print(\"ROC_AUC:\", roc_auc_score(y_3, predicted_labels))\n",
        "print(classification_report(true_labels, predicted_labels))"
      ],
      "metadata": {
        "colab": {
          "base_uri": "https://localhost:8080/"
        },
        "id": "dStiLyrXjWLd",
        "outputId": "beb34823-2648-490f-c218-f31f3e9ec333"
      },
      "execution_count": null,
      "outputs": [
        {
          "output_type": "stream",
          "name": "stdout",
          "text": [
            "ROC_AUC: 0.6344326479287827\n",
            "              precision    recall  f1-score   support\n",
            "\n",
            "           0       0.62      0.51      0.56      1175\n",
            "           1       0.66      0.76      0.71      1489\n",
            "\n",
            "    accuracy                           0.65      2664\n",
            "   macro avg       0.64      0.63      0.63      2664\n",
            "weighted avg       0.65      0.65      0.64      2664\n",
            "\n"
          ]
        }
      ]
    }
  ]
}